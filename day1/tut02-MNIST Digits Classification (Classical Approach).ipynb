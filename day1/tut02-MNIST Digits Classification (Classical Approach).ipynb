{
 "cells": [
  {
   "cell_type": "markdown",
   "metadata": {},
   "source": [
    "# DLVC 2017\n",
    "# 2nd July 2017, Tutorial 2\n",
    "# MNIST Digits Classification (Classical Approach)"
   ]
  },
  {
   "cell_type": "markdown",
   "metadata": {},
   "source": [
    "### MNIST database (http://yann.lecun.com/exdb/mnist/)\n",
    "\n",
    "Consists of four files: <br>\n",
    "* train-images-idx3-ubyte.gz:  training set images (9912422 bytes) <br>\n",
    "* train-labels-idx1-ubyte.gz:  training set labels (28881 bytes) <br>\n",
    "* t10k-images-idx3-ubyte.gz:   test set images (1648877 bytes) <br>\n",
    "* t10k-labels-idx1-ubyte.gz:   test set labels (4542 bytes)  <br>\n"
   ]
  },
  {
   "cell_type": "code",
   "execution_count": 2,
   "metadata": {
    "collapsed": false
   },
   "outputs": [],
   "source": [
    "%matplotlib inline\n",
    "from pylab import *\n",
    "import pickle\n",
    "from skimage import feature\n",
    "import struct\n",
    "from sklearn import preprocessing\n",
    "import os\n",
    "\n",
    "if not os.path.exists('tut02-results'):\n",
    "    os.makedirs('tut02-results')"
   ]
  },
  {
   "cell_type": "code",
   "execution_count": 3,
   "metadata": {
    "collapsed": false
   },
   "outputs": [
    {
     "name": "stdout",
     "output_type": "stream",
     "text": [
      "Train data size: (60000, 28, 28)\n",
      "Train label size: (60000,)\n",
      "Test data size: (10000, 28, 28)\n",
      "Train label size: (10000,)\n",
      "Label: 5\n"
     ]
    },
    {
     "data": {
      "image/png": "[encoded data removed]",
      "text/plain": [
       "<matplotlib.figure.Figure at 0x7fbf2448a490>"
      ]
     },
     "metadata": {},
     "output_type": "display_data"
    }
   ],
   "source": [
    "# Loading dataset\n",
    "# Training data\n",
    "with open('data/tut02/mnist/train-labels.idx1-ubyte', 'rb') as flbl:\n",
    "        magic, num = struct.unpack(\">II\", flbl.read(8))\n",
    "        train_label = np.fromfile(flbl, dtype=np.int8)\n",
    "\n",
    "with open('data/tut02/mnist/train-images.idx3-ubyte', 'rb') as fimg:\n",
    "        magic, num, rows, cols = struct.unpack(\">IIII\", fimg.read(16))\n",
    "        train_data = np.fromfile(fimg, dtype=np.uint8).reshape(len(train_label), rows, cols)\n",
    "        \n",
    "# Testing data\n",
    "with open('data/tut02/mnist/t10k-labels.idx1-ubyte', 'rb') as flbl:\n",
    "        magic, num = struct.unpack(\">II\", flbl.read(8))\n",
    "        test_label = np.fromfile(flbl, dtype=np.int8)\n",
    "\n",
    "with open('data/tut02/mnist/t10k-images.idx3-ubyte', 'rb') as fimg:\n",
    "        magic, num, rows, cols = struct.unpack(\">IIII\", fimg.read(16))\n",
    "        test_data = np.fromfile(fimg, dtype=np.uint8).reshape(len(test_label), rows, cols)\n",
    "        \n",
    "print('Train data size: '+str(train_data.shape))\n",
    "print('Train label size: '+str(train_label.shape))\n",
    "print('Test data size: '+str(test_data.shape))\n",
    "print('Train label size: '+str(test_label.shape))\n",
    "\n",
    "# Sample data\n",
    "imshow(train_data[0],'gray')\n",
    "print('Label: '+str(train_label[0]))"
   ]
  },
  {
   "cell_type": "code",
   "execution_count": 4,
   "metadata": {
    "collapsed": false
   },
   "outputs": [],
   "source": [
    "# Feature extraction and data preparation\n",
    "# Training features\n",
    "train_greycoHomFeat = [feature.greycoprops(feature.greycomatrix(x, [1], [np.pi/4],normed=True),prop='homogeneity') for x in list(train_data)]\n",
    "train_greycoConFeat = [feature.greycoprops(feature.greycomatrix(x, [1], [np.pi/4],normed=True),prop='contrast') for x in list(train_data)]\n",
    "train_greycoEnFeat = [feature.greycoprops(feature.greycomatrix(x, [1], [np.pi/4],normed=True),prop='energy') for x in list(train_data)]\n",
    "train_greycoCorrFeat = [feature.greycoprops(feature.greycomatrix(x, [1], [np.pi/4],normed=True),prop='correlation') for x in list(train_data)]\n",
    "train_hogFeat = [feature.hog(x, orientations=4, pixels_per_cell=(5,5)) for x in list(train_data)]\n",
    "train_lbpFeat = [feature.local_binary_pattern(x, 5, 3) for x in list(train_data)]\n",
    "\n",
    "# Testing features\n",
    "test_greycoHomFeat = [feature.greycoprops(feature.greycomatrix(x, [1], [np.pi/4],normed=True),prop='homogeneity') for x in list(test_data)]\n",
    "test_greycoConFeat = [feature.greycoprops(feature.greycomatrix(x, [1], [np.pi/4],normed=True),prop='contrast') for x in list(test_data)]\n",
    "test_greycoEnFeat = [feature.greycoprops(feature.greycomatrix(x, [1], [np.pi/4],normed=True),prop='energy') for x in list(test_data)]\n",
    "test_greycoCorrFeat = [feature.greycoprops(feature.greycomatrix(x, [1], [np.pi/4],normed=True),prop='correlation') for x in list(test_data)]\n",
    "test_hogFeat = [feature.hog(x, orientations=4, pixels_per_cell=(5,5)) for x in list(test_data)]\n",
    "test_lbpFeat = [feature.local_binary_pattern(x, 5, 3) for x in list(test_data)]\n",
    "\n"
   ]
  },
  {
   "cell_type": "code",
   "execution_count": 6,
   "metadata": {
    "collapsed": false
   },
   "outputs": [],
   "source": [
    "# Data\n",
    "trainFeat = np.zeros((60000,1896))\n",
    "for num in range(60000):    \n",
    "    trainFeat[num][:] = np.concatenate((train_greycoHomFeat[num].reshape(1,),train_greycoConFeat[num].reshape(1,),\n",
    "                            train_greycoEnFeat[num].reshape(1,),train_greycoCorrFeat[num].reshape(1,),\n",
    "                                        train_hogFeat[num],train_lbpFeat[num].reshape(28*28),train_data[num].reshape(28*28)),axis=0)\n",
    "\n",
    "testFeat = np.zeros((10000,1896))\n",
    "for num in range(10000):    \n",
    "    trainFeat[num][:] = np.concatenate((test_greycoHomFeat[num].reshape(1,),test_greycoConFeat[num].reshape(1,),\n",
    "                            test_greycoEnFeat[num].reshape(1,),test_greycoCorrFeat[num].reshape(1,),\n",
    "                                        test_hogFeat[num],test_lbpFeat[num].reshape(28*28),test_data[num].reshape(28*28)),axis=0)\n",
    "trainFeat_scaled = preprocessing.scale(trainFeat)\n",
    "testFeat_scaled = preprocessing.scale(testFeat)"
   ]
  },
  {
   "cell_type": "markdown",
   "metadata": {
    "collapsed": false
   },
   "source": [
    "with open('tut02-results/trainFeat_scaled.pkl','wb') as f:\n",
    "    pickle.dump(trainFeat_scaled,f)\n",
    "with open('tut02-results/testFeat_scaled.pkl','wb') as f:\n",
    "    pickle.dump(testFeat_scaled,f)"
   ]
  },
  {
   "cell_type": "code",
   "execution_count": 5,
   "metadata": {
    "collapsed": false,
    "scrolled": true
   },
   "outputs": [
    {
     "name": "stdout",
     "output_type": "stream",
     "text": [
      "Iteration 1, loss = 1.00709560\n",
      "Iteration 2, loss = 0.84991739\n",
      "Iteration 3, loss = 0.80926330\n",
      "Iteration 4, loss = 0.78343154\n",
      "Iteration 5, loss = 0.76217766\n",
      "Iteration 6, loss = 0.74173220\n",
      "Iteration 7, loss = 0.72489728\n",
      "Iteration 8, loss = 0.70789063\n",
      "Iteration 9, loss = 0.69063643\n",
      "Iteration 10, loss = 0.67517406\n",
      "Iteration 11, loss = 0.65909001\n",
      "Iteration 12, loss = 0.64398507\n",
      "Iteration 13, loss = 0.62917175\n",
      "Iteration 14, loss = 0.61459773\n",
      "Iteration 15, loss = 0.60063437\n",
      "Iteration 16, loss = 0.58721732\n",
      "Iteration 17, loss = 0.57405328\n",
      "Iteration 18, loss = 0.55917347\n",
      "Iteration 19, loss = 0.54686804\n",
      "Iteration 20, loss = 0.53739046\n",
      "Iteration 21, loss = 0.52346930\n",
      "Iteration 22, loss = 0.51008790\n",
      "Iteration 23, loss = 0.49758825\n",
      "Iteration 24, loss = 0.48684645\n",
      "Iteration 25, loss = 0.47715227\n",
      "Iteration 26, loss = 0.46384892\n",
      "Iteration 27, loss = 0.45277977\n",
      "Iteration 28, loss = 0.44099510\n",
      "Iteration 29, loss = 0.42916387\n",
      "Iteration 30, loss = 0.41766372\n",
      "Iteration 31, loss = 0.41086157\n",
      "Iteration 32, loss = 0.40244665\n",
      "Iteration 33, loss = 0.39628031\n",
      "Iteration 34, loss = 0.38288767\n",
      "Iteration 35, loss = 0.37210157\n",
      "Iteration 36, loss = 0.35963425\n",
      "Iteration 37, loss = 0.35505548\n",
      "Iteration 38, loss = 0.34659195\n",
      "Iteration 39, loss = 0.33904798\n",
      "Iteration 40, loss = 0.32833183\n",
      "Iteration 41, loss = 0.32098087\n",
      "Iteration 42, loss = 0.32287827\n",
      "Iteration 43, loss = 0.30937549\n",
      "Iteration 44, loss = 0.30529341\n",
      "Iteration 45, loss = 0.30151551\n",
      "Iteration 46, loss = 0.29013822\n",
      "Iteration 47, loss = 0.28376506\n",
      "Iteration 48, loss = 0.27586721\n",
      "Iteration 49, loss = 0.27124813\n",
      "Iteration 50, loss = 0.26032616\n",
      "Iteration 51, loss = 0.25019084\n",
      "Iteration 52, loss = 0.24406493\n",
      "Iteration 53, loss = 0.23417851\n",
      "Iteration 54, loss = 0.23118057\n",
      "Iteration 55, loss = 0.21979401\n",
      "Iteration 56, loss = 0.21443789\n",
      "Iteration 57, loss = 0.20680862\n",
      "Iteration 58, loss = 0.20070330\n",
      "Iteration 59, loss = 0.19461184\n",
      "Iteration 60, loss = 0.19305097\n",
      "Iteration 61, loss = 0.18923395\n",
      "Iteration 62, loss = 0.18311966\n",
      "Iteration 63, loss = 0.17441608\n",
      "Iteration 64, loss = 0.16715887\n",
      "Iteration 65, loss = 0.16342190\n",
      "Iteration 66, loss = 0.15968265\n",
      "Iteration 67, loss = 0.15606845\n",
      "Iteration 68, loss = 0.15524212\n",
      "Iteration 69, loss = 0.15289162\n",
      "Iteration 70, loss = 0.14268075\n",
      "Iteration 71, loss = 0.14028131\n",
      "Iteration 72, loss = 0.13676174\n",
      "Iteration 73, loss = 0.13237375\n",
      "Iteration 74, loss = 0.13025594\n",
      "Iteration 75, loss = 0.12983625\n",
      "Iteration 76, loss = 0.12983726\n",
      "Iteration 77, loss = 0.14092549\n",
      "Iteration 78, loss = 0.15947132\n",
      "Training loss did not improve more than tol=0.000100 for two consecutive epochs. Stopping.\n"
     ]
    }
   ],
   "source": [
    "from sklearn.neural_network import MLPClassifier\n",
    "#scikitlearn documentation for MLP classifier: goo.gl/F1Q1Fa\n",
    "\n",
    "nn = MLPClassifier(hidden_layer_sizes=(100,), max_iter=10, alpha=1e-4,\n",
    "                    solver='sgd', verbose=True, tol=1e-4, random_state=1,\n",
    "                    learning_rate_init=1e-2)\n",
    "nn.fit(trainFeat_scaled, train_label)       \n",
    "prediction = nn.predict(testFeat_scaled)"
   ]
  },
  {
   "cell_type": "code",
   "execution_count": 6,
   "metadata": {
    "collapsed": false
   },
   "outputs": [
    {
     "name": "stdout",
     "output_type": "stream",
     "text": [
      "Training set score: 0.961583\n",
      "Test set score: 0.097400\n"
     ]
    }
   ],
   "source": [
    "print(\"Training set score: %f\" % nn.score(trainFeat_scaled, train_label)) # mean accuracy\n",
    "print(\"Test set score: %f\" % nn.score(testFeat_scaled, test_label))"
   ]
  }
 ],
 "metadata": {
  "kernelspec": {
   "display_name": "Python 2",
   "language": "python",
   "name": "python2"
  },
  "language_info": {
   "codemirror_mode": {
    "name": "ipython",
    "version": 2
   },
   "file_extension": ".py",
   "mimetype": "text/x-python",
   "name": "python",
   "nbconvert_exporter": "python",
   "pygments_lexer": "ipython2",
   "version": "2.7.11"
  }
 },
 "nbformat": 4,
 "nbformat_minor": 0
}
